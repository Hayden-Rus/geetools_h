{
 "cells": [
  {
   "cell_type": "code",
   "execution_count": null,
   "metadata": {},
   "outputs": [],
   "source": [
    "import ee, geetools\n",
    "\n",
    "ee.Initialize()"
   ]
  },
  {
   "cell_type": "code",
   "execution_count": null,
   "metadata": {},
   "outputs": [],
   "source": [
    "fc = (\n",
    "    ee.FeatureCollection(\"FAO/GAUL/2015/level0\")\n",
    "    .filter(ee.Filter.inList(\"ADM0_CODE\", [122, 237, 85]))\n",
    ")\n",
    "geom = fc.geetools.mergeGeometries()"
   ]
  },
  {
   "cell_type": "code",
   "execution_count": null,
   "metadata": {},
   "outputs": [],
   "source": [
    "import geemap\n",
    "m = geemap.Map()\n",
    "m.addLayer(geom, {}, \"Countries\")\n",
    "m"
   ]
  },
  {
   "cell_type": "code",
   "execution_count": null,
   "metadata": {},
   "outputs": [],
   "source": [
    "vatican = ee.Geometry.Point([12.4534, 41.9033]).buffer(1)\n",
    "fc = ee.FeatureCollection(\"FAO/GAUL/2015/level0\").filter(ee.Filter.eq('ADM0_CODE', 110))\n",
    "fc"
   ]
  },
  {
   "cell_type": "code",
   "execution_count": null,
   "metadata": {},
   "outputs": [],
   "source": [
    "vatican = ee.Geometry.Point([12.4534, 41.9033]).buffer(1)\n",
    "image = ee.ImageCollection('COPERNICUS/S2_SR_HARMONIZED').filterBounds(vatican).first()\n",
    "image = image.select([\"B4\", \"B2\"]).geetools.interpolateBands([0, 3000], [0, 30])\n",
    "values = image.reduceRegion(ee.Reducer.mean(), vatican, 1)\n",
    "print(values.getInfo())"
   ]
  },
  {
   "cell_type": "code",
   "execution_count": null,
   "metadata": {},
   "outputs": [],
   "source": [
    "image.getInfo()"
   ]
  },
  {
   "cell_type": "code",
   "execution_count": null,
   "metadata": {},
   "outputs": [],
   "source": [
    "values = image.reduceRegion(ee.Reducer.first(), vatican, 1)"
   ]
  },
  {
   "cell_type": "code",
   "execution_count": null,
   "metadata": {},
   "outputs": [],
   "source": [
    "values.getInfo()"
   ]
  },
  {
   "cell_type": "code",
   "execution_count": 4,
   "metadata": {},
   "outputs": [
    {
     "data": {
      "text/plain": [
       "[(0, 1), (1, 0)]"
      ]
     },
     "execution_count": 4,
     "metadata": {},
     "output_type": "execute_result"
    }
   ],
   "source": [
    "import ee, geetools\n",
    "from itertools import permutations\n",
    "\n",
    "list([i for i in permutations([0,1], 2)])"
   ]
  },
  {
   "cell_type": "code",
   "execution_count": 18,
   "metadata": {},
   "outputs": [
    {
     "ename": "EEException",
     "evalue": "GeometryConstructors.MultiPolygon: Geometry coordinates do not have the same geodesic state. Specify an explicit geodesic state to reproject inputs.",
     "output_type": "error",
     "traceback": [
      "\u001b[0;31m---------------------------------------------------------------------------\u001b[0m",
      "\u001b[0;31mHttpError\u001b[0m                                 Traceback (most recent call last)",
      "File \u001b[0;32m~/miniconda3/envs/geetools/lib/python3.10/site-packages/ee/data.py:352\u001b[0m, in \u001b[0;36m_execute_cloud_call\u001b[0;34m(call, num_retries)\u001b[0m\n\u001b[1;32m    351\u001b[0m \u001b[39mtry\u001b[39;00m:\n\u001b[0;32m--> 352\u001b[0m   \u001b[39mreturn\u001b[39;00m call\u001b[39m.\u001b[39;49mexecute(num_retries\u001b[39m=\u001b[39;49mnum_retries)\n\u001b[1;32m    353\u001b[0m \u001b[39mexcept\u001b[39;00m googleapiclient\u001b[39m.\u001b[39merrors\u001b[39m.\u001b[39mHttpError \u001b[39mas\u001b[39;00m e:\n",
      "File \u001b[0;32m~/miniconda3/envs/geetools/lib/python3.10/site-packages/googleapiclient/_helpers.py:130\u001b[0m, in \u001b[0;36mpositional.<locals>.positional_decorator.<locals>.positional_wrapper\u001b[0;34m(*args, **kwargs)\u001b[0m\n\u001b[1;32m    129\u001b[0m         logger\u001b[39m.\u001b[39mwarning(message)\n\u001b[0;32m--> 130\u001b[0m \u001b[39mreturn\u001b[39;00m wrapped(\u001b[39m*\u001b[39;49margs, \u001b[39m*\u001b[39;49m\u001b[39m*\u001b[39;49mkwargs)\n",
      "File \u001b[0;32m~/miniconda3/envs/geetools/lib/python3.10/site-packages/googleapiclient/http.py:938\u001b[0m, in \u001b[0;36mHttpRequest.execute\u001b[0;34m(self, http, num_retries)\u001b[0m\n\u001b[1;32m    937\u001b[0m \u001b[39mif\u001b[39;00m resp\u001b[39m.\u001b[39mstatus \u001b[39m>\u001b[39m\u001b[39m=\u001b[39m \u001b[39m300\u001b[39m:\n\u001b[0;32m--> 938\u001b[0m     \u001b[39mraise\u001b[39;00m HttpError(resp, content, uri\u001b[39m=\u001b[39m\u001b[39mself\u001b[39m\u001b[39m.\u001b[39muri)\n\u001b[1;32m    939\u001b[0m \u001b[39mreturn\u001b[39;00m \u001b[39mself\u001b[39m\u001b[39m.\u001b[39mpostproc(resp, content)\n",
      "\u001b[0;31mHttpError\u001b[0m: <HttpError 400 when requesting https://earthengine.googleapis.com/v1/projects/earthengine-legacy/value:compute?prettyPrint=false&alt=json returned \"GeometryConstructors.MultiPolygon: Geometry coordinates do not have the same geodesic state. Specify an explicit geodesic state to reproject inputs.\". Details: \"GeometryConstructors.MultiPolygon: Geometry coordinates do not have the same geodesic state. Specify an explicit geodesic state to reproject inputs.\">",
      "\nDuring handling of the above exception, another exception occurred:\n",
      "\u001b[0;31mEEException\u001b[0m                               Traceback (most recent call last)",
      "\u001b[1;32m/mnt/e/WSL/Users/rambap/github/gee_tools/test.ipynb Cell 10\u001b[0m line \u001b[0;36m8\n\u001b[1;32m      <a href='vscode-notebook-cell://wsl%2Bldc_ubuntu/mnt/e/WSL/Users/rambap/github/gee_tools/test.ipynb#X16sdnNjb2RlLXJlbW90ZQ%3D%3D?line=5'>6</a>\u001b[0m line\u001b[39m.\u001b[39mgetInfo()\n\u001b[1;32m      <a href='vscode-notebook-cell://wsl%2Bldc_ubuntu/mnt/e/WSL/Users/rambap/github/gee_tools/test.ipynb#X16sdnNjb2RlLXJlbW90ZQ%3D%3D?line=6'>7</a>\u001b[0m multiPoly \u001b[39m=\u001b[39m ee\u001b[39m.\u001b[39mGeometry\u001b[39m.\u001b[39mMultiPolygon([poly0, poly1])\n\u001b[0;32m----> <a href='vscode-notebook-cell://wsl%2Bldc_ubuntu/mnt/e/WSL/Users/rambap/github/gee_tools/test.ipynb#X16sdnNjb2RlLXJlbW90ZQ%3D%3D?line=7'>8</a>\u001b[0m multiPoly\u001b[39m.\u001b[39;49mgetInfo()\n\u001b[1;32m      <a href='vscode-notebook-cell://wsl%2Bldc_ubuntu/mnt/e/WSL/Users/rambap/github/gee_tools/test.ipynb#X16sdnNjb2RlLXJlbW90ZQ%3D%3D?line=8'>9</a>\u001b[0m geometryCol \u001b[39m=\u001b[39m ee\u001b[39m.\u001b[39mAlgorithms\u001b[39m.\u001b[39mGeometryConstructors\u001b[39m.\u001b[39mMultiGeometry([poly0, poly1, line, point0], crs\u001b[39m=\u001b[39m\u001b[39m\"\u001b[39m\u001b[39mEPSG:4326\u001b[39m\u001b[39m\"\u001b[39m, geodesic\u001b[39m=\u001b[39m\u001b[39mTrue\u001b[39;00m, maxError\u001b[39m=\u001b[39m\u001b[39m1\u001b[39m)\n\u001b[1;32m     <a href='vscode-notebook-cell://wsl%2Bldc_ubuntu/mnt/e/WSL/Users/rambap/github/gee_tools/test.ipynb#X16sdnNjb2RlLXJlbW90ZQ%3D%3D?line=10'>11</a>\u001b[0m geometryCol\u001b[39m.\u001b[39mgetInfo()\n",
      "File \u001b[0;32m~/miniconda3/envs/geetools/lib/python3.10/site-packages/ee/computedobject.py:103\u001b[0m, in \u001b[0;36mComputedObject.getInfo\u001b[0;34m(self)\u001b[0m\n\u001b[1;32m     97\u001b[0m \u001b[39mdef\u001b[39;00m \u001b[39mgetInfo\u001b[39m(\u001b[39mself\u001b[39m) \u001b[39m-\u001b[39m\u001b[39m>\u001b[39m Optional[Any]:\n\u001b[1;32m     98\u001b[0m \u001b[39m  \u001b[39m\u001b[39m\"\"\"Fetch and return information about this object.\u001b[39;00m\n\u001b[1;32m     99\u001b[0m \n\u001b[1;32m    100\u001b[0m \u001b[39m  Returns:\u001b[39;00m\n\u001b[1;32m    101\u001b[0m \u001b[39m    The object can evaluate to anything.\u001b[39;00m\n\u001b[1;32m    102\u001b[0m \u001b[39m  \"\"\"\u001b[39;00m\n\u001b[0;32m--> 103\u001b[0m   \u001b[39mreturn\u001b[39;00m data\u001b[39m.\u001b[39;49mcomputeValue(\u001b[39mself\u001b[39;49m)\n",
      "File \u001b[0;32m~/miniconda3/envs/geetools/lib/python3.10/site-packages/ee/data.py:971\u001b[0m, in \u001b[0;36mcomputeValue\u001b[0;34m(obj)\u001b[0m\n\u001b[1;32m    968\u001b[0m body \u001b[39m=\u001b[39m {\u001b[39m'\u001b[39m\u001b[39mexpression\u001b[39m\u001b[39m'\u001b[39m: serializer\u001b[39m.\u001b[39mencode(obj, for_cloud_api\u001b[39m=\u001b[39m\u001b[39mTrue\u001b[39;00m)}\n\u001b[1;32m    969\u001b[0m _maybe_populate_workload_tag(body)\n\u001b[0;32m--> 971\u001b[0m \u001b[39mreturn\u001b[39;00m _execute_cloud_call(\n\u001b[1;32m    972\u001b[0m     _get_cloud_projects()\n\u001b[1;32m    973\u001b[0m     \u001b[39m.\u001b[39;49mvalue()\n\u001b[1;32m    974\u001b[0m     \u001b[39m.\u001b[39;49mcompute(body\u001b[39m=\u001b[39;49mbody, project\u001b[39m=\u001b[39;49m_get_projects_path(), prettyPrint\u001b[39m=\u001b[39;49m\u001b[39mFalse\u001b[39;49;00m)\n\u001b[1;32m    975\u001b[0m )[\u001b[39m'\u001b[39m\u001b[39mresult\u001b[39m\u001b[39m'\u001b[39m]\n",
      "File \u001b[0;32m~/miniconda3/envs/geetools/lib/python3.10/site-packages/ee/data.py:354\u001b[0m, in \u001b[0;36m_execute_cloud_call\u001b[0;34m(call, num_retries)\u001b[0m\n\u001b[1;32m    352\u001b[0m   \u001b[39mreturn\u001b[39;00m call\u001b[39m.\u001b[39mexecute(num_retries\u001b[39m=\u001b[39mnum_retries)\n\u001b[1;32m    353\u001b[0m \u001b[39mexcept\u001b[39;00m googleapiclient\u001b[39m.\u001b[39merrors\u001b[39m.\u001b[39mHttpError \u001b[39mas\u001b[39;00m e:\n\u001b[0;32m--> 354\u001b[0m   \u001b[39mraise\u001b[39;00m _translate_cloud_exception(e)\n",
      "\u001b[0;31mEEException\u001b[0m: GeometryConstructors.MultiPolygon: Geometry coordinates do not have the same geodesic state. Specify an explicit geodesic state to reproject inputs."
     ]
    }
   ],
   "source": [
    "point0 = ee.Geometry.Point([0,0])\n",
    "point1 = ee.Geometry.Point([0,1])\n",
    "poly0 = point0.buffer(1)\n",
    "poly1 = point1.buffer(1).bounds()\n",
    "line = ee.Geometry.LineString([point1, point0], geodesic=True)\n",
    "line.getInfo()\n",
    "multiPoly = ee.Geometry.MultiPolygon([poly0, poly1], geodesic=True)\n",
    "multiPoly.getInfo()\n",
    "geometryCol = ee.Algorithms.GeometryConstructors.MultiGeometry([poly0, poly1, line, point0], crs=\"EPSG:4326\", geodesic=True, maxError=1)\n",
    "\n",
    "geometryCol.getInfo()"
   ]
  },
  {
   "cell_type": "code",
   "execution_count": 6,
   "metadata": {},
   "outputs": [
    {
     "ename": "EEException",
     "evalue": "Projection: Argument 'crs': Invalid type.\nExpected type: String.\nActual type: Boolean.\nActual value: true",
     "output_type": "error",
     "traceback": [
      "\u001b[0;31m---------------------------------------------------------------------------\u001b[0m",
      "\u001b[0;31mHttpError\u001b[0m                                 Traceback (most recent call last)",
      "File \u001b[0;32m~/miniconda3/envs/geetools/lib/python3.10/site-packages/ee/data.py:352\u001b[0m, in \u001b[0;36m_execute_cloud_call\u001b[0;34m(call, num_retries)\u001b[0m\n\u001b[1;32m    351\u001b[0m \u001b[39mtry\u001b[39;00m:\n\u001b[0;32m--> 352\u001b[0m   \u001b[39mreturn\u001b[39;00m call\u001b[39m.\u001b[39;49mexecute(num_retries\u001b[39m=\u001b[39;49mnum_retries)\n\u001b[1;32m    353\u001b[0m \u001b[39mexcept\u001b[39;00m googleapiclient\u001b[39m.\u001b[39merrors\u001b[39m.\u001b[39mHttpError \u001b[39mas\u001b[39;00m e:\n",
      "File \u001b[0;32m~/miniconda3/envs/geetools/lib/python3.10/site-packages/googleapiclient/_helpers.py:130\u001b[0m, in \u001b[0;36mpositional.<locals>.positional_decorator.<locals>.positional_wrapper\u001b[0;34m(*args, **kwargs)\u001b[0m\n\u001b[1;32m    129\u001b[0m         logger\u001b[39m.\u001b[39mwarning(message)\n\u001b[0;32m--> 130\u001b[0m \u001b[39mreturn\u001b[39;00m wrapped(\u001b[39m*\u001b[39;49margs, \u001b[39m*\u001b[39;49m\u001b[39m*\u001b[39;49mkwargs)\n",
      "File \u001b[0;32m~/miniconda3/envs/geetools/lib/python3.10/site-packages/googleapiclient/http.py:938\u001b[0m, in \u001b[0;36mHttpRequest.execute\u001b[0;34m(self, http, num_retries)\u001b[0m\n\u001b[1;32m    937\u001b[0m \u001b[39mif\u001b[39;00m resp\u001b[39m.\u001b[39mstatus \u001b[39m>\u001b[39m\u001b[39m=\u001b[39m \u001b[39m300\u001b[39m:\n\u001b[0;32m--> 938\u001b[0m     \u001b[39mraise\u001b[39;00m HttpError(resp, content, uri\u001b[39m=\u001b[39m\u001b[39mself\u001b[39m\u001b[39m.\u001b[39muri)\n\u001b[1;32m    939\u001b[0m \u001b[39mreturn\u001b[39;00m \u001b[39mself\u001b[39m\u001b[39m.\u001b[39mpostproc(resp, content)\n",
      "\u001b[0;31mHttpError\u001b[0m: <HttpError 400 when requesting https://earthengine.googleapis.com/v1/projects/earthengine-legacy/value:compute?prettyPrint=false&alt=json returned \"Projection: Argument 'crs': Invalid type.\nExpected type: String.\nActual type: Boolean.\nActual value: true\". Details: \"Projection: Argument 'crs': Invalid type.\nExpected type: String.\nActual type: Boolean.\nActual value: true\">",
      "\nDuring handling of the above exception, another exception occurred:\n",
      "\u001b[0;31mEEException\u001b[0m                               Traceback (most recent call last)",
      "\u001b[1;32m/mnt/e/WSL/Users/rambap/github/gee_tools/test.ipynb Cell 11\u001b[0m line \u001b[0;36m2\n\u001b[1;32m      <a href='vscode-notebook-cell://wsl%2Bldc_ubuntu/mnt/e/WSL/Users/rambap/github/gee_tools/test.ipynb#X22sdnNjb2RlLXJlbW90ZQ%3D%3D?line=0'>1</a>\u001b[0m new_fc \u001b[39m=\u001b[39m ee\u001b[39m.\u001b[39mFeatureCollection([poly1, multiPoly, geometryCol])\u001b[39m.\u001b[39mgeetools\u001b[39m.\u001b[39mtoPolygons()\n\u001b[0;32m----> <a href='vscode-notebook-cell://wsl%2Bldc_ubuntu/mnt/e/WSL/Users/rambap/github/gee_tools/test.ipynb#X22sdnNjb2RlLXJlbW90ZQ%3D%3D?line=1'>2</a>\u001b[0m new_fc\u001b[39m.\u001b[39;49mgetInfo()\n",
      "File \u001b[0;32m~/miniconda3/envs/geetools/lib/python3.10/site-packages/ee/collection.py:141\u001b[0m, in \u001b[0;36mCollection.getInfo\u001b[0;34m(self)\u001b[0m\n\u001b[1;32m    128\u001b[0m \u001b[39mdef\u001b[39;00m \u001b[39mgetInfo\u001b[39m(\u001b[39mself\u001b[39m) \u001b[39m-\u001b[39m\u001b[39m>\u001b[39m Optional[Any]:\n\u001b[1;32m    129\u001b[0m \u001b[39m  \u001b[39m\u001b[39m\"\"\"Returns all the known information about this collection.\u001b[39;00m\n\u001b[1;32m    130\u001b[0m \n\u001b[1;32m    131\u001b[0m \u001b[39m  This function makes an REST call to to retrieve all the known information\u001b[39;00m\n\u001b[0;32m   (...)\u001b[0m\n\u001b[1;32m    139\u001b[0m \u001b[39m         properties.\u001b[39;00m\n\u001b[1;32m    140\u001b[0m \u001b[39m  \"\"\"\u001b[39;00m\n\u001b[0;32m--> 141\u001b[0m   \u001b[39mreturn\u001b[39;00m \u001b[39msuper\u001b[39;49m()\u001b[39m.\u001b[39;49mgetInfo()\n",
      "File \u001b[0;32m~/miniconda3/envs/geetools/lib/python3.10/site-packages/ee/computedobject.py:103\u001b[0m, in \u001b[0;36mComputedObject.getInfo\u001b[0;34m(self)\u001b[0m\n\u001b[1;32m     97\u001b[0m \u001b[39mdef\u001b[39;00m \u001b[39mgetInfo\u001b[39m(\u001b[39mself\u001b[39m) \u001b[39m-\u001b[39m\u001b[39m>\u001b[39m Optional[Any]:\n\u001b[1;32m     98\u001b[0m \u001b[39m  \u001b[39m\u001b[39m\"\"\"Fetch and return information about this object.\u001b[39;00m\n\u001b[1;32m     99\u001b[0m \n\u001b[1;32m    100\u001b[0m \u001b[39m  Returns:\u001b[39;00m\n\u001b[1;32m    101\u001b[0m \u001b[39m    The object can evaluate to anything.\u001b[39;00m\n\u001b[1;32m    102\u001b[0m \u001b[39m  \"\"\"\u001b[39;00m\n\u001b[0;32m--> 103\u001b[0m   \u001b[39mreturn\u001b[39;00m data\u001b[39m.\u001b[39;49mcomputeValue(\u001b[39mself\u001b[39;49m)\n",
      "File \u001b[0;32m~/miniconda3/envs/geetools/lib/python3.10/site-packages/ee/data.py:971\u001b[0m, in \u001b[0;36mcomputeValue\u001b[0;34m(obj)\u001b[0m\n\u001b[1;32m    968\u001b[0m body \u001b[39m=\u001b[39m {\u001b[39m'\u001b[39m\u001b[39mexpression\u001b[39m\u001b[39m'\u001b[39m: serializer\u001b[39m.\u001b[39mencode(obj, for_cloud_api\u001b[39m=\u001b[39m\u001b[39mTrue\u001b[39;00m)}\n\u001b[1;32m    969\u001b[0m _maybe_populate_workload_tag(body)\n\u001b[0;32m--> 971\u001b[0m \u001b[39mreturn\u001b[39;00m _execute_cloud_call(\n\u001b[1;32m    972\u001b[0m     _get_cloud_projects()\n\u001b[1;32m    973\u001b[0m     \u001b[39m.\u001b[39;49mvalue()\n\u001b[1;32m    974\u001b[0m     \u001b[39m.\u001b[39;49mcompute(body\u001b[39m=\u001b[39;49mbody, project\u001b[39m=\u001b[39;49m_get_projects_path(), prettyPrint\u001b[39m=\u001b[39;49m\u001b[39mFalse\u001b[39;49;00m)\n\u001b[1;32m    975\u001b[0m )[\u001b[39m'\u001b[39m\u001b[39mresult\u001b[39m\u001b[39m'\u001b[39m]\n",
      "File \u001b[0;32m~/miniconda3/envs/geetools/lib/python3.10/site-packages/ee/data.py:354\u001b[0m, in \u001b[0;36m_execute_cloud_call\u001b[0;34m(call, num_retries)\u001b[0m\n\u001b[1;32m    352\u001b[0m   \u001b[39mreturn\u001b[39;00m call\u001b[39m.\u001b[39mexecute(num_retries\u001b[39m=\u001b[39mnum_retries)\n\u001b[1;32m    353\u001b[0m \u001b[39mexcept\u001b[39;00m googleapiclient\u001b[39m.\u001b[39merrors\u001b[39m.\u001b[39mHttpError \u001b[39mas\u001b[39;00m e:\n\u001b[0;32m--> 354\u001b[0m   \u001b[39mraise\u001b[39;00m _translate_cloud_exception(e)\n",
      "\u001b[0;31mEEException\u001b[0m: Projection: Argument 'crs': Invalid type.\nExpected type: String.\nActual type: Boolean.\nActual value: true"
     ]
    }
   ],
   "source": [
    "new_fc = ee.FeatureCollection([poly1, multiPoly, geometryCol]).geetools.toPolygons()\n",
    "new_fc.getInfo()"
   ]
  },
  {
   "cell_type": "code",
   "execution_count": null,
   "metadata": {},
   "outputs": [],
   "source": []
  }
 ],
 "metadata": {
  "kernelspec": {
   "display_name": "Python 3",
   "language": "python",
   "name": "python3"
  },
  "language_info": {
   "codemirror_mode": {
    "name": "ipython",
    "version": 3
   },
   "file_extension": ".py",
   "mimetype": "text/x-python",
   "name": "python",
   "nbconvert_exporter": "python",
   "pygments_lexer": "ipython3",
   "version": "3.10.13"
  },
  "orig_nbformat": 4
 },
 "nbformat": 4,
 "nbformat_minor": 2
}
