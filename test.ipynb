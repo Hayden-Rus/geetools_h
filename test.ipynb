{
 "cells": [
  {
   "cell_type": "code",
   "execution_count": null,
   "metadata": {},
   "outputs": [],
   "source": [
    "import ee, geetools\n",
    "\n",
    "ee.Initialize()"
   ]
  },
  {
   "cell_type": "code",
   "execution_count": null,
   "metadata": {},
   "outputs": [],
   "source": [
    "fc = (\n",
    "    ee.FeatureCollection(\"FAO/GAUL/2015/level0\")\n",
    "    .filter(ee.Filter.inList(\"ADM0_CODE\", [122, 237, 85]))\n",
    ")\n",
    "geom = fc.geetools.mergeGeometries()"
   ]
  },
  {
   "cell_type": "code",
   "execution_count": null,
   "metadata": {},
   "outputs": [],
   "source": [
    "import geemap\n",
    "m = geemap.Map()\n",
    "m.addLayer(geom, {}, \"Countries\")\n",
    "m"
   ]
  },
  {
   "cell_type": "code",
   "execution_count": null,
   "metadata": {},
   "outputs": [],
   "source": [
    "vatican = ee.Geometry.Point([12.4534, 41.9033]).buffer(1)\n",
    "fc = ee.FeatureCollection(\"FAO/GAUL/2015/level0\").filter(ee.Filter.eq('ADM0_CODE', 110))\n",
    "fc"
   ]
  },
  {
   "cell_type": "code",
   "execution_count": null,
   "metadata": {},
   "outputs": [],
   "source": [
    "vatican = ee.Geometry.Point([12.4534, 41.9033]).buffer(1)\n",
    "image = ee.ImageCollection('COPERNICUS/S2_SR_HARMONIZED').filterBounds(vatican).first()\n",
    "image = image.select([\"B4\", \"B2\"]).geetools.interpolateBands([0, 3000], [0, 30])\n",
    "values = image.reduceRegion(ee.Reducer.mean(), vatican, 1)\n",
    "print(values.getInfo())"
   ]
  },
  {
   "cell_type": "code",
   "execution_count": null,
   "metadata": {},
   "outputs": [],
   "source": [
    "image.getInfo()"
   ]
  },
  {
   "cell_type": "code",
   "execution_count": null,
   "metadata": {},
   "outputs": [],
   "source": [
    "values = image.reduceRegion(ee.Reducer.first(), vatican, 1)"
   ]
  },
  {
   "cell_type": "code",
   "execution_count": null,
   "metadata": {},
   "outputs": [],
   "source": [
    "values.getInfo()"
   ]
  },
  {
   "cell_type": "code",
   "execution_count": null,
   "metadata": {},
   "outputs": [],
   "source": [
    "import ee, geetools\n",
    "from itertools import permutations\n",
    "\n",
    "list([i for i in permutations([0,1], 2)])"
   ]
  },
  {
   "cell_type": "code",
   "execution_count": null,
   "metadata": {},
   "outputs": [],
   "source": [
    "à"
   ]
  },
  {
   "cell_type": "code",
   "execution_count": null,
   "metadata": {},
   "outputs": [],
   "source": [
    "new_fc = ee.FeatureCollection([geometryCol]).geetools.toPolygons()"
   ]
  },
  {
   "cell_type": "code",
   "execution_count": null,
   "metadata": {},
   "outputs": [],
   "source": [
    "geometryCol.geetools.keepType(\"Point\").getInfo()"
   ]
  },
  {
   "cell_type": "code",
   "execution_count": 1,
   "metadata": {},
   "outputs": [
    {
     "data": {
      "text/plain": [
       "{'type': 'FeatureCollection',\n",
       " 'columns': {},\n",
       " 'features': [{'type': 'Feature',\n",
       "   'geometry': {'type': 'Point', 'coordinates': [0, 0]},\n",
       "   'id': '0',\n",
       "   'properties': {'id': 1,\n",
       "    'prop_from_fc1': 'I am from fc1',\n",
       "    'prop_from_fc2': 'I am from fc2'}}]}"
      ]
     },
     "execution_count": 1,
     "metadata": {},
     "output_type": "execute_result"
    }
   ],
   "source": [
    "import ee\n",
    "import geetools\n",
    "\n",
    "ee.Initialize()\n",
    "\n",
    "point = ee.Geometry.Point([0,0])\n",
    "prop1 = {'id': 1, 'prop_from_fc1': 'I am from fc1'}\n",
    "prop2 = {'id': 1, 'prop_from_fc2': 'I am from fc2'}\n",
    "fc1 = ee.FeatureCollection([ee.Feature(point, prop1)])\n",
    "fc2 = ee.FeatureCollection([ee.Feature(point, prop2)])\n",
    "joined = ee.Join.geetools.byProperty(fc1, fc2, 'id')\n",
    "joined.getInfo()"
   ]
  },
  {
   "cell_type": "code",
   "execution_count": null,
   "metadata": {},
   "outputs": [],
   "source": [
    "import ee\n",
    "import geetools\n",
    "\n",
    "ee.Initialize()\n",
    "\n",
    "fc = ee.FeatureCollection(\"FAO/GAUL/2015/level0\").filter(ee.Filter.inList(\"ADM0_CODE\", [122, 237, 85]))\n",
    "fc1 = fc.select([\"ADM0_CODE\", \"ADM0_NAME\"])\n",
    "fc2 = fc.select([\"ADM0_CODE\", \"STATUS\"])\n",
    "joined = ee.Join.geetools.byProperty(fc1, fc2, \"ADM0_CODE\")\n",
    "joined.getInfo()"
   ]
  },
  {
   "cell_type": "code",
   "execution_count": null,
   "metadata": {},
   "outputs": [],
   "source": [
    "import ee\n",
    "ee.Initialize()\n",
    "\n",
    "fc = ee.FeatureCollection(\"FAO/GAUL/2015/level0\").filter(ee.Filter.inList(\"ADM0_CODE\", [122, 237, 85]))\n",
    "fc1 = fc.select([\"ADM0_CODE\", \"ADM0_NAME\"])\n",
    "fc2 = fc.select([\"ADM0_CODE\", \"STATUS\"])\n",
    "\n",
    "def join(primary, secondary, field, outer=False):\n",
    "\n",
    "\n",
    "    Filter = ee.Filter.equals(leftField=field, rightField=field)\n",
    "    join = ee.Join.saveFirst(matchKey=\"match\", outer=outer)\n",
    "    joined = join.apply(primary, secondary, Filter)\n",
    "\n",
    "    def cleanJoin(feat):\n",
    "        primaryProp = feat.propertyNames().remove(\"match\")\n",
    "        secondaryProp = ee.Feature(feat.get(\"match\")).toDictionary()\n",
    "        return feat.select(primaryProp).setMulti(secondaryProp)\n",
    "\n",
    "    return ee.FeatureCollection(joined.map(cleanJoin))\n",
    "\n",
    "print(join(fc1, fc2, \"ADM0_CODE\").getInfo())"
   ]
  },
  {
   "cell_type": "code",
   "execution_count": null,
   "metadata": {},
   "outputs": [],
   "source": []
  }
 ],
 "metadata": {
  "kernelspec": {
   "display_name": "Python 3",
   "language": "python",
   "name": "python3"
  },
  "language_info": {
   "codemirror_mode": {
    "name": "ipython",
    "version": 3
   },
   "file_extension": ".py",
   "mimetype": "text/x-python",
   "name": "python",
   "nbconvert_exporter": "python",
   "pygments_lexer": "ipython3",
   "version": "3.10.13"
  },
  "orig_nbformat": 4
 },
 "nbformat": 4,
 "nbformat_minor": 2
}
