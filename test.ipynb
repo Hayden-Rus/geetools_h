{
 "cells": [
  {
   "cell_type": "code",
   "execution_count": 1,
   "metadata": {},
   "outputs": [],
   "source": [
    "import ee, geetools\n",
    "\n",
    "ee.Initialize()"
   ]
  },
  {
   "cell_type": "code",
   "execution_count": 2,
   "metadata": {},
   "outputs": [
    {
     "ename": "EEException",
     "evalue": "String.replace: Parameter 'replacement' is required.",
     "output_type": "error",
     "traceback": [
      "\u001b[0;31m---------------------------------------------------------------------------\u001b[0m",
      "\u001b[0;31mHttpError\u001b[0m                                 Traceback (most recent call last)",
      "File \u001b[0;32m~/miniconda3/envs/geetools/lib/python3.10/site-packages/ee/data.py:352\u001b[0m, in \u001b[0;36m_execute_cloud_call\u001b[0;34m(call, num_retries)\u001b[0m\n\u001b[1;32m    351\u001b[0m \u001b[39mtry\u001b[39;00m:\n\u001b[0;32m--> 352\u001b[0m   \u001b[39mreturn\u001b[39;00m call\u001b[39m.\u001b[39;49mexecute(num_retries\u001b[39m=\u001b[39;49mnum_retries)\n\u001b[1;32m    353\u001b[0m \u001b[39mexcept\u001b[39;00m googleapiclient\u001b[39m.\u001b[39merrors\u001b[39m.\u001b[39mHttpError \u001b[39mas\u001b[39;00m e:\n",
      "File \u001b[0;32m~/miniconda3/envs/geetools/lib/python3.10/site-packages/googleapiclient/_helpers.py:130\u001b[0m, in \u001b[0;36mpositional.<locals>.positional_decorator.<locals>.positional_wrapper\u001b[0;34m(*args, **kwargs)\u001b[0m\n\u001b[1;32m    129\u001b[0m         logger\u001b[39m.\u001b[39mwarning(message)\n\u001b[0;32m--> 130\u001b[0m \u001b[39mreturn\u001b[39;00m wrapped(\u001b[39m*\u001b[39;49margs, \u001b[39m*\u001b[39;49m\u001b[39m*\u001b[39;49mkwargs)\n",
      "File \u001b[0;32m~/miniconda3/envs/geetools/lib/python3.10/site-packages/googleapiclient/http.py:938\u001b[0m, in \u001b[0;36mHttpRequest.execute\u001b[0;34m(self, http, num_retries)\u001b[0m\n\u001b[1;32m    937\u001b[0m \u001b[39mif\u001b[39;00m resp\u001b[39m.\u001b[39mstatus \u001b[39m>\u001b[39m\u001b[39m=\u001b[39m \u001b[39m300\u001b[39m:\n\u001b[0;32m--> 938\u001b[0m     \u001b[39mraise\u001b[39;00m HttpError(resp, content, uri\u001b[39m=\u001b[39m\u001b[39mself\u001b[39m\u001b[39m.\u001b[39muri)\n\u001b[1;32m    939\u001b[0m \u001b[39mreturn\u001b[39;00m \u001b[39mself\u001b[39m\u001b[39m.\u001b[39mpostproc(resp, content)\n",
      "\u001b[0;31mHttpError\u001b[0m: <HttpError 400 when requesting https://earthengine.googleapis.com/v1/projects/earthengine-legacy/value:compute?prettyPrint=false&alt=json returned \"String.replace: Parameter 'replacement' is required.\". Details: \"String.replace: Parameter 'replacement' is required.\">",
      "\nDuring handling of the above exception, another exception occurred:\n",
      "\u001b[0;31mEEException\u001b[0m                               Traceback (most recent call last)",
      "\u001b[1;32m/mnt/e/WSL/Users/rambap/github/gee_tools/test.ipynb Cell 2\u001b[0m line \u001b[0;36m3\n\u001b[1;32m      <a href='vscode-notebook-cell://wsl%2Bldc_ubuntu/mnt/e/WSL/Users/rambap/github/gee_tools/test.ipynb#W1sdnNjb2RlLXJlbW90ZQ%3D%3D?line=0'>1</a>\u001b[0m image \u001b[39m=\u001b[39m ee\u001b[39m.\u001b[39mImage(\u001b[39m'\u001b[39m\u001b[39mCOPERNICUS/S2_SR_HARMONIZED/20200101T100319_20200101T100321_T32TQM\u001b[39m\u001b[39m'\u001b[39m)\n\u001b[1;32m      <a href='vscode-notebook-cell://wsl%2Bldc_ubuntu/mnt/e/WSL/Users/rambap/github/gee_tools/test.ipynb#W1sdnNjb2RlLXJlbW90ZQ%3D%3D?line=1'>2</a>\u001b[0m string \u001b[39m=\u001b[39m image\u001b[39m.\u001b[39mgeetools\u001b[39m.\u001b[39mtoString(\u001b[39m'\u001b[39m\u001b[39mthis is the image date: \u001b[39m\u001b[39m{system_date}\u001b[39;00m\u001b[39m'\u001b[39m)\n\u001b[0;32m----> <a href='vscode-notebook-cell://wsl%2Bldc_ubuntu/mnt/e/WSL/Users/rambap/github/gee_tools/test.ipynb#W1sdnNjb2RlLXJlbW90ZQ%3D%3D?line=2'>3</a>\u001b[0m \u001b[39mprint\u001b[39m(string\u001b[39m.\u001b[39;49mgetInfo())\n",
      "File \u001b[0;32m~/miniconda3/envs/geetools/lib/python3.10/site-packages/ee/computedobject.py:103\u001b[0m, in \u001b[0;36mComputedObject.getInfo\u001b[0;34m(self)\u001b[0m\n\u001b[1;32m     97\u001b[0m \u001b[39mdef\u001b[39;00m \u001b[39mgetInfo\u001b[39m(\u001b[39mself\u001b[39m) \u001b[39m-\u001b[39m\u001b[39m>\u001b[39m Optional[Any]:\n\u001b[1;32m     98\u001b[0m \u001b[39m  \u001b[39m\u001b[39m\"\"\"Fetch and return information about this object.\u001b[39;00m\n\u001b[1;32m     99\u001b[0m \n\u001b[1;32m    100\u001b[0m \u001b[39m  Returns:\u001b[39;00m\n\u001b[1;32m    101\u001b[0m \u001b[39m    The object can evaluate to anything.\u001b[39;00m\n\u001b[1;32m    102\u001b[0m \u001b[39m  \"\"\"\u001b[39;00m\n\u001b[0;32m--> 103\u001b[0m   \u001b[39mreturn\u001b[39;00m data\u001b[39m.\u001b[39;49mcomputeValue(\u001b[39mself\u001b[39;49m)\n",
      "File \u001b[0;32m~/miniconda3/envs/geetools/lib/python3.10/site-packages/ee/data.py:971\u001b[0m, in \u001b[0;36mcomputeValue\u001b[0;34m(obj)\u001b[0m\n\u001b[1;32m    968\u001b[0m body \u001b[39m=\u001b[39m {\u001b[39m'\u001b[39m\u001b[39mexpression\u001b[39m\u001b[39m'\u001b[39m: serializer\u001b[39m.\u001b[39mencode(obj, for_cloud_api\u001b[39m=\u001b[39m\u001b[39mTrue\u001b[39;00m)}\n\u001b[1;32m    969\u001b[0m _maybe_populate_workload_tag(body)\n\u001b[0;32m--> 971\u001b[0m \u001b[39mreturn\u001b[39;00m _execute_cloud_call(\n\u001b[1;32m    972\u001b[0m     _get_cloud_projects()\n\u001b[1;32m    973\u001b[0m     \u001b[39m.\u001b[39;49mvalue()\n\u001b[1;32m    974\u001b[0m     \u001b[39m.\u001b[39;49mcompute(body\u001b[39m=\u001b[39;49mbody, project\u001b[39m=\u001b[39;49m_get_projects_path(), prettyPrint\u001b[39m=\u001b[39;49m\u001b[39mFalse\u001b[39;49;00m)\n\u001b[1;32m    975\u001b[0m )[\u001b[39m'\u001b[39m\u001b[39mresult\u001b[39m\u001b[39m'\u001b[39m]\n",
      "File \u001b[0;32m~/miniconda3/envs/geetools/lib/python3.10/site-packages/ee/data.py:354\u001b[0m, in \u001b[0;36m_execute_cloud_call\u001b[0;34m(call, num_retries)\u001b[0m\n\u001b[1;32m    352\u001b[0m   \u001b[39mreturn\u001b[39;00m call\u001b[39m.\u001b[39mexecute(num_retries\u001b[39m=\u001b[39mnum_retries)\n\u001b[1;32m    353\u001b[0m \u001b[39mexcept\u001b[39;00m googleapiclient\u001b[39m.\u001b[39merrors\u001b[39m.\u001b[39mHttpError \u001b[39mas\u001b[39;00m e:\n\u001b[0;32m--> 354\u001b[0m   \u001b[39mraise\u001b[39;00m _translate_cloud_exception(e)\n",
      "\u001b[0;31mEEException\u001b[0m: String.replace: Parameter 'replacement' is required."
     ]
    }
   ],
   "source": [
    "image = ee.Image('COPERNICUS/S2_SR_HARMONIZED/20200101T100319_20200101T100321_T32TQM')\n",
    "string = image.geetools.toString('this is the image date: {CLOUDY_PIXEL_PERCENTAGE}')\n",
    "print(string.getInfo())\n"
   ]
  },
  {
   "cell_type": "code",
   "execution_count": 4,
   "metadata": {},
   "outputs": [
    {
     "data": {
      "text/plain": [
       "['system:version',\n",
       " 'system:id',\n",
       " 'DATATAKE_IDENTIFIER',\n",
       " 'AOT_RETRIEVAL_ACCURACY',\n",
       " 'SPACECRAFT_NAME',\n",
       " 'SATURATED_DEFECTIVE_PIXEL_PERCENTAGE',\n",
       " 'MEAN_INCIDENCE_AZIMUTH_ANGLE_B8A',\n",
       " 'CLOUD_SHADOW_PERCENTAGE',\n",
       " 'MEAN_SOLAR_AZIMUTH_ANGLE',\n",
       " 'system:footprint',\n",
       " 'VEGETATION_PERCENTAGE',\n",
       " 'SOLAR_IRRADIANCE_B12',\n",
       " 'SOLAR_IRRADIANCE_B10',\n",
       " 'SENSOR_QUALITY',\n",
       " 'SOLAR_IRRADIANCE_B11',\n",
       " 'GENERATION_TIME',\n",
       " 'SOLAR_IRRADIANCE_B8A',\n",
       " 'FORMAT_CORRECTNESS',\n",
       " 'CLOUD_COVERAGE_ASSESSMENT',\n",
       " 'THIN_CIRRUS_PERCENTAGE',\n",
       " 'system:time_end',\n",
       " 'WATER_VAPOUR_RETRIEVAL_ACCURACY',\n",
       " 'system:time_start',\n",
       " 'DATASTRIP_ID',\n",
       " 'PROCESSING_BASELINE',\n",
       " 'SENSING_ORBIT_NUMBER',\n",
       " 'NODATA_PIXEL_PERCENTAGE',\n",
       " 'SENSING_ORBIT_DIRECTION',\n",
       " 'GENERAL_QUALITY',\n",
       " 'GRANULE_ID',\n",
       " 'REFLECTANCE_CONVERSION_CORRECTION',\n",
       " 'MEDIUM_PROBA_CLOUDS_PERCENTAGE',\n",
       " 'MEAN_INCIDENCE_AZIMUTH_ANGLE_B8',\n",
       " 'DATATAKE_TYPE',\n",
       " 'MEAN_INCIDENCE_AZIMUTH_ANGLE_B9',\n",
       " 'MEAN_INCIDENCE_AZIMUTH_ANGLE_B6',\n",
       " 'MEAN_INCIDENCE_AZIMUTH_ANGLE_B7',\n",
       " 'MEAN_INCIDENCE_AZIMUTH_ANGLE_B4',\n",
       " 'MEAN_INCIDENCE_ZENITH_ANGLE_B1',\n",
       " 'NOT_VEGETATED_PERCENTAGE',\n",
       " 'MEAN_INCIDENCE_AZIMUTH_ANGLE_B5',\n",
       " 'RADIOMETRIC_QUALITY',\n",
       " 'MEAN_INCIDENCE_AZIMUTH_ANGLE_B2',\n",
       " 'MEAN_INCIDENCE_AZIMUTH_ANGLE_B3',\n",
       " 'MEAN_INCIDENCE_ZENITH_ANGLE_B5',\n",
       " 'MEAN_INCIDENCE_AZIMUTH_ANGLE_B1',\n",
       " 'MEAN_INCIDENCE_ZENITH_ANGLE_B4',\n",
       " 'MEAN_INCIDENCE_ZENITH_ANGLE_B3',\n",
       " 'MEAN_INCIDENCE_ZENITH_ANGLE_B2',\n",
       " 'MEAN_INCIDENCE_ZENITH_ANGLE_B9',\n",
       " 'MEAN_INCIDENCE_ZENITH_ANGLE_B8',\n",
       " 'MEAN_INCIDENCE_ZENITH_ANGLE_B7',\n",
       " 'DARK_FEATURES_PERCENTAGE',\n",
       " 'HIGH_PROBA_CLOUDS_PERCENTAGE',\n",
       " 'MEAN_INCIDENCE_ZENITH_ANGLE_B6',\n",
       " 'UNCLASSIFIED_PERCENTAGE',\n",
       " 'MEAN_SOLAR_ZENITH_ANGLE',\n",
       " 'MEAN_INCIDENCE_ZENITH_ANGLE_B8A',\n",
       " 'RADIATIVE_TRANSFER_ACCURACY',\n",
       " 'MGRS_TILE',\n",
       " 'CLOUDY_PIXEL_PERCENTAGE',\n",
       " 'PRODUCT_ID',\n",
       " 'MEAN_INCIDENCE_ZENITH_ANGLE_B10',\n",
       " 'SOLAR_IRRADIANCE_B9',\n",
       " 'SNOW_ICE_PERCENTAGE',\n",
       " 'DEGRADED_MSI_DATA_PERCENTAGE',\n",
       " 'MEAN_INCIDENCE_ZENITH_ANGLE_B11',\n",
       " 'MEAN_INCIDENCE_ZENITH_ANGLE_B12',\n",
       " 'SOLAR_IRRADIANCE_B6',\n",
       " 'MEAN_INCIDENCE_AZIMUTH_ANGLE_B10',\n",
       " 'SOLAR_IRRADIANCE_B5',\n",
       " 'MEAN_INCIDENCE_AZIMUTH_ANGLE_B11',\n",
       " 'SOLAR_IRRADIANCE_B8',\n",
       " 'MEAN_INCIDENCE_AZIMUTH_ANGLE_B12',\n",
       " 'SOLAR_IRRADIANCE_B7',\n",
       " 'SOLAR_IRRADIANCE_B2',\n",
       " 'SOLAR_IRRADIANCE_B1',\n",
       " 'SOLAR_IRRADIANCE_B4',\n",
       " 'GEOMETRIC_QUALITY',\n",
       " 'SOLAR_IRRADIANCE_B3',\n",
       " 'system:asset_size',\n",
       " 'WATER_PERCENTAGE',\n",
       " 'system:index',\n",
       " 'system:bands',\n",
       " 'system:band_names']"
      ]
     },
     "execution_count": 4,
     "metadata": {},
     "output_type": "execute_result"
    }
   ],
   "source": [
    "image.propertyNames().getInfo()"
   ]
  },
  {
   "cell_type": "code",
   "execution_count": null,
   "metadata": {},
   "outputs": [],
   "source": []
  }
 ],
 "metadata": {
  "kernelspec": {
   "display_name": "Python 3",
   "language": "python",
   "name": "python3"
  },
  "language_info": {
   "codemirror_mode": {
    "name": "ipython",
    "version": 3
   },
   "file_extension": ".py",
   "mimetype": "text/x-python",
   "name": "python",
   "nbconvert_exporter": "python",
   "pygments_lexer": "ipython3",
   "version": "3.10.13"
  },
  "orig_nbformat": 4
 },
 "nbformat": 4,
 "nbformat_minor": 2
}
