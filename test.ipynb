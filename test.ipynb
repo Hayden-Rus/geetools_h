{
 "cells": [
  {
   "cell_type": "code",
   "execution_count": null,
   "metadata": {},
   "outputs": [],
   "source": [
    "import ee, geetools\n",
    "\n",
    "ee.Initialize()"
   ]
  },
  {
   "cell_type": "code",
   "execution_count": null,
   "metadata": {},
   "outputs": [],
   "source": [
    "fc = (\n",
    "    ee.FeatureCollection(\"FAO/GAUL/2015/level0\")\n",
    "    .filter(ee.Filter.inList(\"ADM0_CODE\", [122, 237, 85]))\n",
    ")\n",
    "geom = fc.geetools.mergeGeometries()"
   ]
  },
  {
   "cell_type": "code",
   "execution_count": null,
   "metadata": {},
   "outputs": [],
   "source": [
    "import geemap\n",
    "m = geemap.Map()\n",
    "m.addLayer(geom, {}, \"Countries\")\n",
    "m"
   ]
  },
  {
   "cell_type": "code",
   "execution_count": null,
   "metadata": {},
   "outputs": [],
   "source": [
    "vatican = ee.Geometry.Point([12.4534, 41.9033]).buffer(1)\n",
    "fc = ee.FeatureCollection(\"FAO/GAUL/2015/level0\").filter(ee.Filter.eq('ADM0_CODE', 110))\n",
    "fc"
   ]
  },
  {
   "cell_type": "code",
   "execution_count": null,
   "metadata": {},
   "outputs": [],
   "source": [
    "vatican = ee.Geometry.Point([12.4534, 41.9033]).buffer(1)\n",
    "image = ee.ImageCollection('COPERNICUS/S2_SR_HARMONIZED').filterBounds(vatican).first()\n",
    "image = image.select([\"B4\", \"B2\"]).geetools.interpolateBands([0, 3000], [0, 30])\n",
    "values = image.reduceRegion(ee.Reducer.mean(), vatican, 1)\n",
    "print(values.getInfo())"
   ]
  },
  {
   "cell_type": "code",
   "execution_count": null,
   "metadata": {},
   "outputs": [],
   "source": [
    "image.getInfo()"
   ]
  },
  {
   "cell_type": "code",
   "execution_count": null,
   "metadata": {},
   "outputs": [],
   "source": [
    "values = image.reduceRegion(ee.Reducer.first(), vatican, 1)"
   ]
  },
  {
   "cell_type": "code",
   "execution_count": null,
   "metadata": {},
   "outputs": [],
   "source": [
    "values.getInfo()"
   ]
  },
  {
   "cell_type": "code",
   "execution_count": null,
   "metadata": {},
   "outputs": [],
   "source": [
    "import ee, geetools\n",
    "from itertools import permutations\n",
    "\n",
    "list([i for i in permutations([0,1], 2)])"
   ]
  },
  {
   "cell_type": "code",
   "execution_count": null,
   "metadata": {},
   "outputs": [],
   "source": [
    "à"
   ]
  },
  {
   "cell_type": "code",
   "execution_count": null,
   "metadata": {},
   "outputs": [],
   "source": [
    "new_fc = ee.FeatureCollection([geometryCol]).geetools.toPolygons()"
   ]
  },
  {
   "cell_type": "code",
   "execution_count": null,
   "metadata": {},
   "outputs": [],
   "source": [
    "geometryCol.geetools.keepType(\"Point\").getInfo()"
   ]
  },
  {
   "cell_type": "code",
   "execution_count": null,
   "metadata": {},
   "outputs": [],
   "source": [
    "import ee\n",
    "import geetools\n",
    "\n",
    "ee.Initialize()\n",
    "\n",
    "point = ee.Geometry.Point([0,0])\n",
    "prop1 = {'id': 1, 'prop_from_fc1': 'I am from fc1'}\n",
    "prop2 = {'id': 1, 'prop_from_fc2': 'I am from fc2'}\n",
    "fc1 = ee.FeatureCollection([ee.Feature(point, prop1)])\n",
    "fc2 = ee.FeatureCollection([ee.Feature(point, prop2)])\n",
    "joined = ee.Join.geetools.byProperty(fc1, fc2, 'id')\n",
    "joined.getInfo()"
   ]
  },
  {
   "cell_type": "code",
   "execution_count": 1,
   "metadata": {},
   "outputs": [
    {
     "ename": "EEException",
     "evalue": "Unrecognized argument type to convert to a FeatureCollection: <geetools.Join.Join object at 0x7f62e1fb7850>",
     "output_type": "error",
     "traceback": [
      "\u001b[0;31m---------------------------------------------------------------------------\u001b[0m",
      "\u001b[0;31mEEException\u001b[0m                               Traceback (most recent call last)",
      "\u001b[1;32m/mnt/e/WSL/Users/rambap/github/gee_tools/test.ipynb Cell 14\u001b[0m line \u001b[0;36m9\n\u001b[1;32m      <a href='vscode-notebook-cell://wsl%2Bldc_ubuntu/mnt/e/WSL/Users/rambap/github/gee_tools/test.ipynb#X20sdnNjb2RlLXJlbW90ZQ%3D%3D?line=6'>7</a>\u001b[0m fc1 \u001b[39m=\u001b[39m fc\u001b[39m.\u001b[39mselect([\u001b[39m\"\u001b[39m\u001b[39mADM0_CODE\u001b[39m\u001b[39m\"\u001b[39m, \u001b[39m\"\u001b[39m\u001b[39mADM0_NAME\u001b[39m\u001b[39m\"\u001b[39m])\n\u001b[1;32m      <a href='vscode-notebook-cell://wsl%2Bldc_ubuntu/mnt/e/WSL/Users/rambap/github/gee_tools/test.ipynb#X20sdnNjb2RlLXJlbW90ZQ%3D%3D?line=7'>8</a>\u001b[0m fc2 \u001b[39m=\u001b[39m fc\u001b[39m.\u001b[39mselect([\u001b[39m\"\u001b[39m\u001b[39mADM0_CODE\u001b[39m\u001b[39m\"\u001b[39m, \u001b[39m\"\u001b[39m\u001b[39mSTATUS\u001b[39m\u001b[39m\"\u001b[39m])\n\u001b[0;32m----> <a href='vscode-notebook-cell://wsl%2Bldc_ubuntu/mnt/e/WSL/Users/rambap/github/gee_tools/test.ipynb#X20sdnNjb2RlLXJlbW90ZQ%3D%3D?line=8'>9</a>\u001b[0m joined \u001b[39m=\u001b[39m ee\u001b[39m.\u001b[39;49mJoin\u001b[39m.\u001b[39;49mgeetools\u001b[39m.\u001b[39;49mbyProperty(fc1, fc2, \u001b[39m\"\u001b[39;49m\u001b[39mADM0_CODE\u001b[39;49m\u001b[39m\"\u001b[39;49m)\n\u001b[1;32m     <a href='vscode-notebook-cell://wsl%2Bldc_ubuntu/mnt/e/WSL/Users/rambap/github/gee_tools/test.ipynb#X20sdnNjb2RlLXJlbW90ZQ%3D%3D?line=9'>10</a>\u001b[0m joined\u001b[39m.\u001b[39mgetInfo()\n",
      "File \u001b[0;32m/mnt/e/WSL/Users/rambap/github/gee_tools/geetools/Join.py:51\u001b[0m, in \u001b[0;36mJoin.byProperty\u001b[0;34m(primary, secondary, field, outer)\u001b[0m\n\u001b[1;32m     19\u001b[0m \u001b[39m\u001b[39m\u001b[39m\"\"\"Join 2 collections by a given property field.\u001b[39;00m\n\u001b[1;32m     20\u001b[0m \n\u001b[1;32m     21\u001b[0m \u001b[39mIt assumes ids are unique so uses ee.Join.saveFirst.\u001b[39;00m\n\u001b[0;32m   (...)\u001b[0m\n\u001b[1;32m     48\u001b[0m \n\u001b[1;32m     49\u001b[0m \u001b[39m\"\"\"\u001b[39;00m\n\u001b[1;32m     50\u001b[0m \u001b[39m#field = ee.String(field)\u001b[39;00m\n\u001b[0;32m---> 51\u001b[0m primary, secondary \u001b[39m=\u001b[39m ee\u001b[39m.\u001b[39;49mFeatureCollection(primary), ee\u001b[39m.\u001b[39mFeatureCollection(secondary)\n\u001b[1;32m     52\u001b[0m Filter \u001b[39m=\u001b[39m ee\u001b[39m.\u001b[39mFilter\u001b[39m.\u001b[39mequals(leftField\u001b[39m=\u001b[39m\u001b[39m\"\u001b[39m\u001b[39mADM0_CODE\u001b[39m\u001b[39m\"\u001b[39m, rightField\u001b[39m=\u001b[39m\u001b[39m\"\u001b[39m\u001b[39mADM0_CODE\u001b[39m\u001b[39m\"\u001b[39m)\n\u001b[1;32m     53\u001b[0m join \u001b[39m=\u001b[39m ee\u001b[39m.\u001b[39mJoin\u001b[39m.\u001b[39msaveFirst(matchKey\u001b[39m=\u001b[39m\u001b[39m\"\u001b[39m\u001b[39mmatch\u001b[39m\u001b[39m\"\u001b[39m, outer\u001b[39m=\u001b[39m\u001b[39mFalse\u001b[39;00m)\n",
      "File \u001b[0;32m~/miniconda3/envs/geetools/lib/python3.10/site-packages/ee/computedobject.py:26\u001b[0m, in \u001b[0;36mComputedObjectMetaclass.__call__\u001b[0;34m(cls, *args, **kwargs)\u001b[0m\n\u001b[1;32m     24\u001b[0m   \u001b[39mreturn\u001b[39;00m args[\u001b[39m0\u001b[39m]\n\u001b[1;32m     25\u001b[0m \u001b[39melse\u001b[39;00m:\n\u001b[0;32m---> 26\u001b[0m   \u001b[39mreturn\u001b[39;00m \u001b[39mtype\u001b[39;49m\u001b[39m.\u001b[39;49m\u001b[39m__call__\u001b[39;49m(\u001b[39mcls\u001b[39;49m, \u001b[39m*\u001b[39;49margs, \u001b[39m*\u001b[39;49m\u001b[39m*\u001b[39;49mkwargs)\n",
      "File \u001b[0;32m~/miniconda3/envs/geetools/lib/python3.10/site-packages/ee/featurecollection.py:97\u001b[0m, in \u001b[0;36mFeatureCollection.__init__\u001b[0;34m(self, args, opt_column)\u001b[0m\n\u001b[1;32m     95\u001b[0m   \u001b[39msuper\u001b[39m()\u001b[39m.\u001b[39m\u001b[39m__init__\u001b[39m(args\u001b[39m.\u001b[39mfunc, args\u001b[39m.\u001b[39margs, args\u001b[39m.\u001b[39mvarName)\n\u001b[1;32m     96\u001b[0m \u001b[39melse\u001b[39;00m:\n\u001b[0;32m---> 97\u001b[0m   \u001b[39mraise\u001b[39;00m ee_exception\u001b[39m.\u001b[39mEEException(\n\u001b[1;32m     98\u001b[0m       \u001b[39m'\u001b[39m\u001b[39mUnrecognized argument type to convert to a FeatureCollection: \u001b[39m\u001b[39m%s\u001b[39;00m\u001b[39m'\u001b[39m \u001b[39m%\u001b[39m\n\u001b[1;32m     99\u001b[0m       args)\n",
      "\u001b[0;31mEEException\u001b[0m: Unrecognized argument type to convert to a FeatureCollection: <geetools.Join.Join object at 0x7f62e1fb7850>"
     ]
    }
   ],
   "source": [
    "import ee\n",
    "import geetools\n",
    "\n",
    "ee.Initialize()\n",
    "\n",
    "fc = ee.FeatureCollection(\"FAO/GAUL/2015/level0\").filter(ee.Filter.inList(\"ADM0_CODE\", [122, 237, 85]))\n",
    "fc1 = fc.select([\"ADM0_CODE\", \"ADM0_NAME\"])\n",
    "fc2 = fc.select([\"ADM0_CODE\", \"STATUS\"])\n",
    "joined = ee.Join.geetools.byProperty(fc1, fc2, \"ADM0_CODE\")\n",
    "joined.getInfo()"
   ]
  },
  {
   "cell_type": "code",
   "execution_count": null,
   "metadata": {},
   "outputs": [],
   "source": [
    "import ee\n",
    "ee.Initialize()\n",
    "\n",
    "fc = ee.FeatureCollection(\"FAO/GAUL/2015/level0\").filter(ee.Filter.inList(\"ADM0_CODE\", [122, 237, 85]))\n",
    "fc1 = fc.select([\"ADM0_CODE\", \"ADM0_NAME\"])\n",
    "fc2 = fc.select([\"ADM0_CODE\", \"STATUS\"])\n",
    "\n",
    "def join(primary, secondary, field, outer=False):\n",
    "\n",
    "\n",
    "    Filter = ee.Filter.equals(leftField=field, rightField=field)\n",
    "    join = ee.Join.saveFirst(matchKey=\"match\", outer=outer)\n",
    "    joined = join.apply(primary, secondary, Filter)\n",
    "\n",
    "    def cleanJoin(feat):\n",
    "        primaryProp = feat.propertyNames().remove(\"match\")\n",
    "        secondaryProp = ee.Feature(feat.get(\"match\")).toDictionary()\n",
    "        return feat.select(primaryProp).setMulti(secondaryProp)\n",
    "    return ee.FeatureCollection(joined.map(cleanJoin))\n",
    "\n",
    "print(ee.FeatureCollection(joined.map(cleanJoin)))"
   ]
  },
  {
   "cell_type": "code",
   "execution_count": null,
   "metadata": {},
   "outputs": [],
   "source": []
  }
 ],
 "metadata": {
  "kernelspec": {
   "display_name": "Python 3",
   "language": "python",
   "name": "python3"
  },
  "language_info": {
   "codemirror_mode": {
    "name": "ipython",
    "version": 3
   },
   "file_extension": ".py",
   "mimetype": "text/x-python",
   "name": "python",
   "nbconvert_exporter": "python",
   "pygments_lexer": "ipython3",
   "version": "3.10.13"
  },
  "orig_nbformat": 4
 },
 "nbformat": 4,
 "nbformat_minor": 2
}
