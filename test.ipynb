{
 "cells": [
  {
   "cell_type": "code",
   "execution_count": 1,
   "metadata": {},
   "outputs": [],
   "source": [
    "import ee, geetools\n",
    "\n",
    "ee.Initialize()"
   ]
  },
  {
   "cell_type": "code",
   "execution_count": 2,
   "metadata": {},
   "outputs": [
    {
     "data": {
      "text/plain": [
       "<ee.featurecollection.FeatureCollection at 0x7fbeea3fc640>"
      ]
     },
     "execution_count": 2,
     "metadata": {},
     "output_type": "execute_result"
    }
   ],
   "source": [
    "vatican = ee.Geometry.Point([12.4534, 41.9033]).buffer(1)\n",
    "fc = ee.FeatureCollection(\"FAO/GAUL/2015/level0\").filter(ee.Filter.eq('ADM0_CODE', 110))\n",
    "fc"
   ]
  },
  {
   "cell_type": "code",
   "execution_count": 4,
   "metadata": {},
   "outputs": [
    {
     "ename": "AttributeError",
     "evalue": "'Image' object has no attribute 'select'",
     "output_type": "error",
     "traceback": [
      "\u001b[0;31m---------------------------------------------------------------------------\u001b[0m",
      "\u001b[0;31mAttributeError\u001b[0m                            Traceback (most recent call last)",
      "\u001b[1;32m/mnt/e/WSL/Users/rambap/github/gee_tools/test.ipynb Cell 3\u001b[0m line \u001b[0;36m3\n\u001b[1;32m      <a href='vscode-notebook-cell://wsl%2Bldc_ubuntu/mnt/e/WSL/Users/rambap/github/gee_tools/test.ipynb#X10sdnNjb2RlLXJlbW90ZQ%3D%3D?line=0'>1</a>\u001b[0m vatican \u001b[39m=\u001b[39m ee\u001b[39m.\u001b[39mGeometry\u001b[39m.\u001b[39mPoint([\u001b[39m12.4534\u001b[39m, \u001b[39m41.9033\u001b[39m])\u001b[39m.\u001b[39mbuffer(\u001b[39m1\u001b[39m)\n\u001b[1;32m      <a href='vscode-notebook-cell://wsl%2Bldc_ubuntu/mnt/e/WSL/Users/rambap/github/gee_tools/test.ipynb#X10sdnNjb2RlLXJlbW90ZQ%3D%3D?line=1'>2</a>\u001b[0m image \u001b[39m=\u001b[39m ee\u001b[39m.\u001b[39mImageCollection(\u001b[39m'\u001b[39m\u001b[39mCOPERNICUS/S2_SR_HARMONIZED\u001b[39m\u001b[39m'\u001b[39m)\u001b[39m.\u001b[39mfilterBounds(vatican)\u001b[39m.\u001b[39mfirst()\n\u001b[0;32m----> <a href='vscode-notebook-cell://wsl%2Bldc_ubuntu/mnt/e/WSL/Users/rambap/github/gee_tools/test.ipynb#X10sdnNjb2RlLXJlbW90ZQ%3D%3D?line=2'>3</a>\u001b[0m image \u001b[39m=\u001b[39m image\u001b[39m.\u001b[39;49mgeetools\u001b[39m.\u001b[39;49mselect([\u001b[39m\"\u001b[39m\u001b[39mB4\u001b[39m\u001b[39m\"\u001b[39m, \u001b[39m\"\u001b[39m\u001b[39mB2\u001b[39m\u001b[39m\"\u001b[39m])\u001b[39m.\u001b[39minterpolateBands([\u001b[39m0\u001b[39m, \u001b[39m3000\u001b[39m], [\u001b[39m0\u001b[39m, \u001b[39m30\u001b[39m])\n\u001b[1;32m      <a href='vscode-notebook-cell://wsl%2Bldc_ubuntu/mnt/e/WSL/Users/rambap/github/gee_tools/test.ipynb#X10sdnNjb2RlLXJlbW90ZQ%3D%3D?line=3'>4</a>\u001b[0m values \u001b[39m=\u001b[39m image\u001b[39m.\u001b[39mreduceRegion(ee\u001b[39m.\u001b[39mReducer\u001b[39m.\u001b[39mmean(), vatican, \u001b[39m1\u001b[39m)\n\u001b[1;32m      <a href='vscode-notebook-cell://wsl%2Bldc_ubuntu/mnt/e/WSL/Users/rambap/github/gee_tools/test.ipynb#X10sdnNjb2RlLXJlbW90ZQ%3D%3D?line=4'>5</a>\u001b[0m \u001b[39mprint\u001b[39m(values\u001b[39m.\u001b[39mgetInfo())\n",
      "\u001b[0;31mAttributeError\u001b[0m: 'Image' object has no attribute 'select'"
     ]
    }
   ],
   "source": [
    "vatican = ee.Geometry.Point([12.4534, 41.9033]).buffer(1)\n",
    "image = ee.ImageCollection('COPERNICUS/S2_SR_HARMONIZED').filterBounds(vatican).first()\n",
    "image = image.select([\"B4\", \"B2\"]).geetools.interpolateBands([0, 3000], [0, 30])\n",
    "values = image.reduceRegion(ee.Reducer.mean(), vatican, 1)\n",
    "print(values.getInfo())"
   ]
  },
  {
   "cell_type": "code",
   "execution_count": null,
   "metadata": {},
   "outputs": [],
   "source": [
    "image.getInfo()"
   ]
  },
  {
   "cell_type": "code",
   "execution_count": null,
   "metadata": {},
   "outputs": [],
   "source": [
    "values = image.reduceRegion(ee.Reducer.first(), vatican, 1)"
   ]
  },
  {
   "cell_type": "code",
   "execution_count": null,
   "metadata": {},
   "outputs": [],
   "source": [
    "values.getInfo()"
   ]
  },
  {
   "cell_type": "code",
   "execution_count": null,
   "metadata": {},
   "outputs": [],
   "source": []
  }
 ],
 "metadata": {
  "kernelspec": {
   "display_name": "Python 3",
   "language": "python",
   "name": "python3"
  },
  "language_info": {
   "codemirror_mode": {
    "name": "ipython",
    "version": 3
   },
   "file_extension": ".py",
   "mimetype": "text/x-python",
   "name": "python",
   "nbconvert_exporter": "python",
   "pygments_lexer": "ipython3",
   "version": "3.10.13"
  },
  "orig_nbformat": 4
 },
 "nbformat": 4,
 "nbformat_minor": 2
}
