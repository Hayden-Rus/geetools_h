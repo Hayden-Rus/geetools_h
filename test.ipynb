{
 "cells": [
  {
   "cell_type": "code",
   "execution_count": 2,
   "metadata": {},
   "outputs": [],
   "source": [
    "import ee, geetools\n",
    "\n",
    "ee.Initialize()"
   ]
  },
  {
   "cell_type": "code",
   "execution_count": 3,
   "metadata": {},
   "outputs": [
    {
     "data": {
      "text/plain": [
       "{'B1_gauss': 0.5596584633629059}"
      ]
     },
     "execution_count": 3,
     "metadata": {},
     "output_type": "execute_result"
    }
   ],
   "source": [
    "vatican = ee.Geometry.Point([12.4534, 41.9033]).buffer(1)\n",
    "src = \"COPERNICUS/S2_SR_HARMONIZED/20200101T100319_20200101T100321_T32TQM\"\n",
    "image_instance = ee.Image(src).select([\"B1\", \"B2\", \"B3\"])\n",
    "image = image_instance.geetools.gauss()\n",
    "values = image.reduceRegion(ee.Reducer.mean(), vatican, 1)\n",
    "values.getInfo()"
   ]
  },
  {
   "cell_type": "code",
   "execution_count": 6,
   "metadata": {},
   "outputs": [
    {
     "ename": "ModuleNotFoundError",
     "evalue": "No module named 'geemap'",
     "output_type": "error",
     "traceback": [
      "\u001b[0;31m---------------------------------------------------------------------------\u001b[0m",
      "\u001b[0;31mModuleNotFoundError\u001b[0m                       Traceback (most recent call last)",
      "\u001b[1;32m/mnt/e/WSL/Users/rambap/github/gee_tools/test.ipynb Cell 3\u001b[0m line \u001b[0;36m1\n\u001b[0;32m----> <a href='vscode-notebook-cell://wsl%2Bldc_ubuntu/mnt/e/WSL/Users/rambap/github/gee_tools/test.ipynb#X10sdnNjb2RlLXJlbW90ZQ%3D%3D?line=0'>1</a>\u001b[0m \u001b[39mfrom\u001b[39;00m \u001b[39mgeemap\u001b[39;00m \u001b[39mimport\u001b[39;00m Map \n\u001b[1;32m      <a href='vscode-notebook-cell://wsl%2Bldc_ubuntu/mnt/e/WSL/Users/rambap/github/gee_tools/test.ipynb#X10sdnNjb2RlLXJlbW90ZQ%3D%3D?line=2'>3</a>\u001b[0m m \u001b[39m=\u001b[39m Map() \n\u001b[1;32m      <a href='vscode-notebook-cell://wsl%2Bldc_ubuntu/mnt/e/WSL/Users/rambap/github/gee_tools/test.ipynb#X10sdnNjb2RlLXJlbW90ZQ%3D%3D?line=3'>4</a>\u001b[0m m\u001b[39m.\u001b[39maddLayer(image, {}, \u001b[39m\"\u001b[39m\u001b[39mimage\u001b[39m\u001b[39m\"\u001b[39m)\n",
      "\u001b[0;31mModuleNotFoundError\u001b[0m: No module named 'geemap'"
     ]
    }
   ],
   "source": [
    "from geemap import Map\n",
    "\n",
    "m = Map()\n",
    "m.addLayer(image, {}, \"image\")"
   ]
  },
  {
   "cell_type": "code",
   "execution_count": null,
   "metadata": {},
   "outputs": [],
   "source": []
  }
 ],
 "metadata": {
  "kernelspec": {
   "display_name": "Python 3",
   "language": "python",
   "name": "python3"
  },
  "language_info": {
   "codemirror_mode": {
    "name": "ipython",
    "version": 3
   },
   "file_extension": ".py",
   "mimetype": "text/x-python",
   "name": "python",
   "nbconvert_exporter": "python",
   "pygments_lexer": "ipython3",
   "version": "3.10.13"
  },
  "orig_nbformat": 4
 },
 "nbformat": 4,
 "nbformat_minor": 2
}
